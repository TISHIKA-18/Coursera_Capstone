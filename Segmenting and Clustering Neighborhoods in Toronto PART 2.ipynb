{
    "cells": [
        {
            "cell_type": "markdown",
            "metadata": {},
            "source": "# Segmenting and Clustering Neighborhoods in Toronto PART - 2"
        },
        {
            "cell_type": "code",
            "execution_count": 1,
            "metadata": {},
            "outputs": [
                {
                    "name": "stdout",
                    "output_type": "stream",
                    "text": "Collecting geocoder\n\u001b[?25l  Downloading https://files.pythonhosted.org/packages/4f/6b/13166c909ad2f2d76b929a4227c952630ebaf0d729f6317eb09cbceccbab/geocoder-1.38.1-py2.py3-none-any.whl (98kB)\n\u001b[K     |\u2588\u2588\u2588\u2588\u2588\u2588\u2588\u2588\u2588\u2588\u2588\u2588\u2588\u2588\u2588\u2588\u2588\u2588\u2588\u2588\u2588\u2588\u2588\u2588\u2588\u2588\u2588\u2588\u2588\u2588\u2588\u2588| 102kB 5.8MB/s ta 0:00:011\n\u001b[?25hRequirement already satisfied: future in /opt/conda/envs/Python36/lib/python3.6/site-packages (from geocoder) (0.17.1)\nCollecting ratelim (from geocoder)\n  Downloading https://files.pythonhosted.org/packages/f2/98/7e6d147fd16a10a5f821db6e25f192265d6ecca3d82957a4fdd592cad49c/ratelim-0.1.6-py2.py3-none-any.whl\nRequirement already satisfied: click in /opt/conda/envs/Python36/lib/python3.6/site-packages (from geocoder) (7.0)\nRequirement already satisfied: requests in /opt/conda/envs/Python36/lib/python3.6/site-packages (from geocoder) (2.21.0)\nRequirement already satisfied: six in /opt/conda/envs/Python36/lib/python3.6/site-packages (from geocoder) (1.12.0)\nRequirement already satisfied: decorator in /opt/conda/envs/Python36/lib/python3.6/site-packages (from ratelim->geocoder) (4.3.2)\nRequirement already satisfied: certifi>=2017.4.17 in /opt/conda/envs/Python36/lib/python3.6/site-packages (from requests->geocoder) (2020.6.20)\nRequirement already satisfied: idna<2.9,>=2.5 in /opt/conda/envs/Python36/lib/python3.6/site-packages (from requests->geocoder) (2.8)\nRequirement already satisfied: urllib3<1.25,>=1.21.1 in /opt/conda/envs/Python36/lib/python3.6/site-packages (from requests->geocoder) (1.24.1)\nRequirement already satisfied: chardet<3.1.0,>=3.0.2 in /opt/conda/envs/Python36/lib/python3.6/site-packages (from requests->geocoder) (3.0.4)\nInstalling collected packages: ratelim, geocoder\nSuccessfully installed geocoder-1.38.1 ratelim-0.1.6\nInstalled\n"
                }
            ],
            "source": "!pip install geocoder\nprint (\"Installed\")"
        },
        {
            "cell_type": "code",
            "execution_count": 2,
            "metadata": {},
            "outputs": [
                {
                    "name": "stdout",
                    "output_type": "stream",
                    "text": "imported\n"
                }
            ],
            "source": "import pandas as pd \nimport numpy as np\nimport geocoder\nprint('imported')"
        },
        {
            "cell_type": "code",
            "execution_count": 3,
            "metadata": {},
            "outputs": [
                {
                    "data": {
                        "text/html": "<div>\n<style scoped>\n    .dataframe tbody tr th:only-of-type {\n        vertical-align: middle;\n    }\n\n    .dataframe tbody tr th {\n        vertical-align: top;\n    }\n\n    .dataframe thead th {\n        text-align: right;\n    }\n</style>\n<table border=\"1\" class=\"dataframe\">\n  <thead>\n    <tr style=\"text-align: right;\">\n      <th></th>\n      <th>Postalcode</th>\n      <th>Borough</th>\n      <th>Neighborhood</th>\n    </tr>\n  </thead>\n  <tbody>\n    <tr>\n      <th>0</th>\n      <td>M1B\\n</td>\n      <td>Scarborough\\n</td>\n      <td>Malvern, Rouge</td>\n    </tr>\n    <tr>\n      <th>1</th>\n      <td>M1C\\n</td>\n      <td>Scarborough\\n</td>\n      <td>Rouge Hill, Port Union, Highland Creek</td>\n    </tr>\n    <tr>\n      <th>2</th>\n      <td>M1E\\n</td>\n      <td>Scarborough\\n</td>\n      <td>Guildwood, Morningside, West Hill</td>\n    </tr>\n    <tr>\n      <th>3</th>\n      <td>M1G\\n</td>\n      <td>Scarborough\\n</td>\n      <td>Woburn</td>\n    </tr>\n    <tr>\n      <th>4</th>\n      <td>M1H\\n</td>\n      <td>Scarborough\\n</td>\n      <td>Cedarbrae</td>\n    </tr>\n    <tr>\n      <th>5</th>\n      <td>M1J\\n</td>\n      <td>Scarborough\\n</td>\n      <td>Scarborough Village</td>\n    </tr>\n    <tr>\n      <th>6</th>\n      <td>M1K\\n</td>\n      <td>Scarborough\\n</td>\n      <td>Kennedy Park, Ionview, East Birchmount Park</td>\n    </tr>\n    <tr>\n      <th>7</th>\n      <td>M1L\\n</td>\n      <td>Scarborough\\n</td>\n      <td>Golden Mile, Clairlea, Oakridge</td>\n    </tr>\n    <tr>\n      <th>8</th>\n      <td>M1M\\n</td>\n      <td>Scarborough\\n</td>\n      <td>Cliffside, Cliffcrest, Scarborough Village West</td>\n    </tr>\n    <tr>\n      <th>9</th>\n      <td>M1N\\n</td>\n      <td>Scarborough\\n</td>\n      <td>Birch Cliff, Cliffside West</td>\n    </tr>\n    <tr>\n      <th>10</th>\n      <td>M1P\\n</td>\n      <td>Scarborough\\n</td>\n      <td>Dorset Park, Wexford Heights, Scarborough Town...</td>\n    </tr>\n    <tr>\n      <th>11</th>\n      <td>M1R\\n</td>\n      <td>Scarborough\\n</td>\n      <td>Wexford, Maryvale</td>\n    </tr>\n    <tr>\n      <th>12</th>\n      <td>M1S\\n</td>\n      <td>Scarborough\\n</td>\n      <td>Agincourt</td>\n    </tr>\n    <tr>\n      <th>13</th>\n      <td>M1T\\n</td>\n      <td>Scarborough\\n</td>\n      <td>Clarks Corners, Tam O'Shanter, Sullivan</td>\n    </tr>\n    <tr>\n      <th>14</th>\n      <td>M1V\\n</td>\n      <td>Scarborough\\n</td>\n      <td>Milliken, Agincourt North, Steeles East, L'Amo...</td>\n    </tr>\n    <tr>\n      <th>15</th>\n      <td>M1W\\n</td>\n      <td>Scarborough\\n</td>\n      <td>Steeles West, L'Amoreaux West</td>\n    </tr>\n    <tr>\n      <th>16</th>\n      <td>M1X\\n</td>\n      <td>Scarborough\\n</td>\n      <td>Upper Rouge</td>\n    </tr>\n    <tr>\n      <th>17</th>\n      <td>M2H\\n</td>\n      <td>North York\\n</td>\n      <td>Hillcrest Village</td>\n    </tr>\n    <tr>\n      <th>18</th>\n      <td>M2J\\n</td>\n      <td>North York\\n</td>\n      <td>Fairview, Henry Farm, Oriole</td>\n    </tr>\n    <tr>\n      <th>19</th>\n      <td>M2K\\n</td>\n      <td>North York\\n</td>\n      <td>Bayview Village</td>\n    </tr>\n    <tr>\n      <th>20</th>\n      <td>M2L\\n</td>\n      <td>North York\\n</td>\n      <td>York Mills, Silver Hills</td>\n    </tr>\n    <tr>\n      <th>21</th>\n      <td>M2M\\n</td>\n      <td>North York\\n</td>\n      <td>Willowdale, Newtonbrook</td>\n    </tr>\n    <tr>\n      <th>22</th>\n      <td>M2N\\n</td>\n      <td>North York\\n</td>\n      <td>Willowdale, Willowdale East</td>\n    </tr>\n    <tr>\n      <th>23</th>\n      <td>M2P\\n</td>\n      <td>North York\\n</td>\n      <td>York Mills West</td>\n    </tr>\n    <tr>\n      <th>24</th>\n      <td>M2R\\n</td>\n      <td>North York\\n</td>\n      <td>Willowdale, Willowdale West</td>\n    </tr>\n    <tr>\n      <th>25</th>\n      <td>M3A\\n</td>\n      <td>North York\\n</td>\n      <td>Parkwoods</td>\n    </tr>\n    <tr>\n      <th>26</th>\n      <td>M3B\\n</td>\n      <td>North York\\n</td>\n      <td>Don Mills</td>\n    </tr>\n    <tr>\n      <th>27</th>\n      <td>M3C\\n</td>\n      <td>North York\\n</td>\n      <td>Don Mills</td>\n    </tr>\n    <tr>\n      <th>28</th>\n      <td>M3H\\n</td>\n      <td>North York\\n</td>\n      <td>Bathurst Manor, Wilson Heights, Downsview North</td>\n    </tr>\n    <tr>\n      <th>29</th>\n      <td>M3J\\n</td>\n      <td>North York\\n</td>\n      <td>Northwood Park, York University</td>\n    </tr>\n    <tr>\n      <th>...</th>\n      <td>...</td>\n      <td>...</td>\n      <td>...</td>\n    </tr>\n    <tr>\n      <th>73</th>\n      <td>M6C\\n</td>\n      <td>York\\n</td>\n      <td>Humewood-Cedarvale</td>\n    </tr>\n    <tr>\n      <th>74</th>\n      <td>M6E\\n</td>\n      <td>York\\n</td>\n      <td>Caledonia-Fairbanks</td>\n    </tr>\n    <tr>\n      <th>75</th>\n      <td>M6G\\n</td>\n      <td>Downtown Toronto\\n</td>\n      <td>Christie</td>\n    </tr>\n    <tr>\n      <th>76</th>\n      <td>M6H\\n</td>\n      <td>West Toronto\\n</td>\n      <td>Dufferin, Dovercourt Village</td>\n    </tr>\n    <tr>\n      <th>77</th>\n      <td>M6J\\n</td>\n      <td>West Toronto\\n</td>\n      <td>Little Portugal, Trinity</td>\n    </tr>\n    <tr>\n      <th>78</th>\n      <td>M6K\\n</td>\n      <td>West Toronto\\n</td>\n      <td>Brockton, Parkdale Village, Exhibition Place</td>\n    </tr>\n    <tr>\n      <th>79</th>\n      <td>M6L\\n</td>\n      <td>North York\\n</td>\n      <td>North Park, Maple Leaf Park, Upwood Park</td>\n    </tr>\n    <tr>\n      <th>80</th>\n      <td>M6M\\n</td>\n      <td>York\\n</td>\n      <td>Del Ray, Mount Dennis, Keelsdale and Silverthorn</td>\n    </tr>\n    <tr>\n      <th>81</th>\n      <td>M6N\\n</td>\n      <td>York\\n</td>\n      <td>Runnymede, The Junction North</td>\n    </tr>\n    <tr>\n      <th>82</th>\n      <td>M6P\\n</td>\n      <td>West Toronto\\n</td>\n      <td>High Park, The Junction South</td>\n    </tr>\n    <tr>\n      <th>83</th>\n      <td>M6R\\n</td>\n      <td>West Toronto\\n</td>\n      <td>Parkdale, Roncesvalles</td>\n    </tr>\n    <tr>\n      <th>84</th>\n      <td>M6S\\n</td>\n      <td>West Toronto\\n</td>\n      <td>Runnymede, Swansea</td>\n    </tr>\n    <tr>\n      <th>85</th>\n      <td>M7A\\n</td>\n      <td>Downtown Toronto\\n</td>\n      <td>Queen's Park, Ontario Provincial Government</td>\n    </tr>\n    <tr>\n      <th>86</th>\n      <td>M7R\\n</td>\n      <td>Mississauga\\n</td>\n      <td>Canada Post Gateway Processing Centre</td>\n    </tr>\n    <tr>\n      <th>87</th>\n      <td>M7Y\\n</td>\n      <td>East Toronto\\n</td>\n      <td>Business reply mail Processing Centre, South C...</td>\n    </tr>\n    <tr>\n      <th>88</th>\n      <td>M8V\\n</td>\n      <td>Etobicoke\\n</td>\n      <td>New Toronto, Mimico South, Humber Bay Shores</td>\n    </tr>\n    <tr>\n      <th>89</th>\n      <td>M8W\\n</td>\n      <td>Etobicoke\\n</td>\n      <td>Alderwood, Long Branch</td>\n    </tr>\n    <tr>\n      <th>90</th>\n      <td>M8X\\n</td>\n      <td>Etobicoke\\n</td>\n      <td>The Kingsway, Montgomery Road, Old Mill North</td>\n    </tr>\n    <tr>\n      <th>91</th>\n      <td>M8Y\\n</td>\n      <td>Etobicoke\\n</td>\n      <td>Old Mill South, King's Mill Park, Sunnylea, Hu...</td>\n    </tr>\n    <tr>\n      <th>92</th>\n      <td>M8Z\\n</td>\n      <td>Etobicoke\\n</td>\n      <td>Mimico NW, The Queensway West, South of Bloor,...</td>\n    </tr>\n    <tr>\n      <th>93</th>\n      <td>M9A\\n</td>\n      <td>Etobicoke\\n</td>\n      <td>Islington Avenue, Humber Valley Village</td>\n    </tr>\n    <tr>\n      <th>94</th>\n      <td>M9B\\n</td>\n      <td>Etobicoke\\n</td>\n      <td>West Deane Park, Princess Gardens, Martin Grov...</td>\n    </tr>\n    <tr>\n      <th>95</th>\n      <td>M9C\\n</td>\n      <td>Etobicoke\\n</td>\n      <td>Eringate, Bloordale Gardens, Old Burnhamthorpe...</td>\n    </tr>\n    <tr>\n      <th>96</th>\n      <td>M9L\\n</td>\n      <td>North York\\n</td>\n      <td>Humber Summit</td>\n    </tr>\n    <tr>\n      <th>97</th>\n      <td>M9M\\n</td>\n      <td>North York\\n</td>\n      <td>Humberlea, Emery</td>\n    </tr>\n    <tr>\n      <th>98</th>\n      <td>M9N\\n</td>\n      <td>York\\n</td>\n      <td>Weston</td>\n    </tr>\n    <tr>\n      <th>99</th>\n      <td>M9P\\n</td>\n      <td>Etobicoke\\n</td>\n      <td>Westmount</td>\n    </tr>\n    <tr>\n      <th>100</th>\n      <td>M9R\\n</td>\n      <td>Etobicoke\\n</td>\n      <td>Kingsview Village, St. Phillips, Martin Grove ...</td>\n    </tr>\n    <tr>\n      <th>101</th>\n      <td>M9V\\n</td>\n      <td>Etobicoke\\n</td>\n      <td>South Steeles, Silverstone, Humbergate, Jamest...</td>\n    </tr>\n    <tr>\n      <th>102</th>\n      <td>M9W\\n</td>\n      <td>Etobicoke\\n</td>\n      <td>Northwest, West Humber - Clairville</td>\n    </tr>\n  </tbody>\n</table>\n<p>103 rows \u00d7 3 columns</p>\n</div>",
                        "text/plain": "    Postalcode             Borough  \\\n0        M1B\\n       Scarborough\\n   \n1        M1C\\n       Scarborough\\n   \n2        M1E\\n       Scarborough\\n   \n3        M1G\\n       Scarborough\\n   \n4        M1H\\n       Scarborough\\n   \n5        M1J\\n       Scarborough\\n   \n6        M1K\\n       Scarborough\\n   \n7        M1L\\n       Scarborough\\n   \n8        M1M\\n       Scarborough\\n   \n9        M1N\\n       Scarborough\\n   \n10       M1P\\n       Scarborough\\n   \n11       M1R\\n       Scarborough\\n   \n12       M1S\\n       Scarborough\\n   \n13       M1T\\n       Scarborough\\n   \n14       M1V\\n       Scarborough\\n   \n15       M1W\\n       Scarborough\\n   \n16       M1X\\n       Scarborough\\n   \n17       M2H\\n        North York\\n   \n18       M2J\\n        North York\\n   \n19       M2K\\n        North York\\n   \n20       M2L\\n        North York\\n   \n21       M2M\\n        North York\\n   \n22       M2N\\n        North York\\n   \n23       M2P\\n        North York\\n   \n24       M2R\\n        North York\\n   \n25       M3A\\n        North York\\n   \n26       M3B\\n        North York\\n   \n27       M3C\\n        North York\\n   \n28       M3H\\n        North York\\n   \n29       M3J\\n        North York\\n   \n..         ...                 ...   \n73       M6C\\n              York\\n   \n74       M6E\\n              York\\n   \n75       M6G\\n  Downtown Toronto\\n   \n76       M6H\\n      West Toronto\\n   \n77       M6J\\n      West Toronto\\n   \n78       M6K\\n      West Toronto\\n   \n79       M6L\\n        North York\\n   \n80       M6M\\n              York\\n   \n81       M6N\\n              York\\n   \n82       M6P\\n      West Toronto\\n   \n83       M6R\\n      West Toronto\\n   \n84       M6S\\n      West Toronto\\n   \n85       M7A\\n  Downtown Toronto\\n   \n86       M7R\\n       Mississauga\\n   \n87       M7Y\\n      East Toronto\\n   \n88       M8V\\n         Etobicoke\\n   \n89       M8W\\n         Etobicoke\\n   \n90       M8X\\n         Etobicoke\\n   \n91       M8Y\\n         Etobicoke\\n   \n92       M8Z\\n         Etobicoke\\n   \n93       M9A\\n         Etobicoke\\n   \n94       M9B\\n         Etobicoke\\n   \n95       M9C\\n         Etobicoke\\n   \n96       M9L\\n        North York\\n   \n97       M9M\\n        North York\\n   \n98       M9N\\n              York\\n   \n99       M9P\\n         Etobicoke\\n   \n100      M9R\\n         Etobicoke\\n   \n101      M9V\\n         Etobicoke\\n   \n102      M9W\\n         Etobicoke\\n   \n\n                                          Neighborhood  \n0                                       Malvern, Rouge  \n1               Rouge Hill, Port Union, Highland Creek  \n2                    Guildwood, Morningside, West Hill  \n3                                               Woburn  \n4                                            Cedarbrae  \n5                                  Scarborough Village  \n6          Kennedy Park, Ionview, East Birchmount Park  \n7                      Golden Mile, Clairlea, Oakridge  \n8      Cliffside, Cliffcrest, Scarborough Village West  \n9                          Birch Cliff, Cliffside West  \n10   Dorset Park, Wexford Heights, Scarborough Town...  \n11                                   Wexford, Maryvale  \n12                                           Agincourt  \n13             Clarks Corners, Tam O'Shanter, Sullivan  \n14   Milliken, Agincourt North, Steeles East, L'Amo...  \n15                       Steeles West, L'Amoreaux West  \n16                                         Upper Rouge  \n17                                   Hillcrest Village  \n18                        Fairview, Henry Farm, Oriole  \n19                                     Bayview Village  \n20                            York Mills, Silver Hills  \n21                             Willowdale, Newtonbrook  \n22                         Willowdale, Willowdale East  \n23                                     York Mills West  \n24                         Willowdale, Willowdale West  \n25                                           Parkwoods  \n26                                           Don Mills  \n27                                           Don Mills  \n28     Bathurst Manor, Wilson Heights, Downsview North  \n29                     Northwood Park, York University  \n..                                                 ...  \n73                                  Humewood-Cedarvale  \n74                                 Caledonia-Fairbanks  \n75                                            Christie  \n76                        Dufferin, Dovercourt Village  \n77                            Little Portugal, Trinity  \n78        Brockton, Parkdale Village, Exhibition Place  \n79            North Park, Maple Leaf Park, Upwood Park  \n80    Del Ray, Mount Dennis, Keelsdale and Silverthorn  \n81                       Runnymede, The Junction North  \n82                       High Park, The Junction South  \n83                              Parkdale, Roncesvalles  \n84                                  Runnymede, Swansea  \n85         Queen's Park, Ontario Provincial Government  \n86               Canada Post Gateway Processing Centre  \n87   Business reply mail Processing Centre, South C...  \n88        New Toronto, Mimico South, Humber Bay Shores  \n89                              Alderwood, Long Branch  \n90       The Kingsway, Montgomery Road, Old Mill North  \n91   Old Mill South, King's Mill Park, Sunnylea, Hu...  \n92   Mimico NW, The Queensway West, South of Bloor,...  \n93             Islington Avenue, Humber Valley Village  \n94   West Deane Park, Princess Gardens, Martin Grov...  \n95   Eringate, Bloordale Gardens, Old Burnhamthorpe...  \n96                                       Humber Summit  \n97                                    Humberlea, Emery  \n98                                              Weston  \n99                                           Westmount  \n100  Kingsview Village, St. Phillips, Martin Grove ...  \n101  South Steeles, Silverstone, Humbergate, Jamest...  \n102                Northwest, West Humber - Clairville  \n\n[103 rows x 3 columns]"
                    },
                    "execution_count": 3,
                    "metadata": {},
                    "output_type": "execute_result"
                }
            ],
            "source": "df = pd.read_csv('Toronto.csv')\ndf"
        },
        {
            "cell_type": "code",
            "execution_count": 5,
            "metadata": {},
            "outputs": [
                {
                    "name": "stdout",
                    "output_type": "stream",
                    "text": "(103, 3)\n"
                },
                {
                    "data": {
                        "text/html": "<div>\n<style scoped>\n    .dataframe tbody tr th:only-of-type {\n        vertical-align: middle;\n    }\n\n    .dataframe tbody tr th {\n        vertical-align: top;\n    }\n\n    .dataframe thead th {\n        text-align: right;\n    }\n</style>\n<table border=\"1\" class=\"dataframe\">\n  <thead>\n    <tr style=\"text-align: right;\">\n      <th></th>\n      <th>Postalcode</th>\n      <th>Borough</th>\n      <th>Neighborhood</th>\n    </tr>\n  </thead>\n  <tbody>\n    <tr>\n      <th>count</th>\n      <td>103</td>\n      <td>103</td>\n      <td>103</td>\n    </tr>\n    <tr>\n      <th>unique</th>\n      <td>103</td>\n      <td>10</td>\n      <td>99</td>\n    </tr>\n    <tr>\n      <th>top</th>\n      <td>M5W\\n</td>\n      <td>North York\\n</td>\n      <td>Downsview</td>\n    </tr>\n    <tr>\n      <th>freq</th>\n      <td>1</td>\n      <td>24</td>\n      <td>4</td>\n    </tr>\n  </tbody>\n</table>\n</div>",
                        "text/plain": "       Postalcode       Borough Neighborhood\ncount         103           103          103\nunique        103            10           99\ntop         M5W\\n  North York\\n    Downsview\nfreq            1            24            4"
                    },
                    "execution_count": 5,
                    "metadata": {},
                    "output_type": "execute_result"
                }
            ],
            "source": "print(df.shape)\ndf.describe()"
        },
        {
            "cell_type": "code",
            "execution_count": 7,
            "metadata": {},
            "outputs": [
                {
                    "data": {
                        "text/plain": "[43.70909000000006, -79.36409999999995]"
                    },
                    "execution_count": 7,
                    "metadata": {},
                    "output_type": "execute_result"
                }
            ],
            "source": "def get_lati_long(postal_code):\n    lati_long_coords = None\n    while(lati_long_coords is None):\n        g = geocoder.arcgis('{}, Toronto, Ontario'.format(postal_code))\n        lati_long_coords = g.latlng\n    return lati_long_coords\n    \nget_lati_long('M4G')"
        },
        {
            "cell_type": "code",
            "execution_count": 11,
            "metadata": {},
            "outputs": [],
            "source": "postal_codes = df['Postalcode']\ncoords = [get_lati_long(postal_code) for postal_code in postal_codes.tolist()]"
        },
        {
            "cell_type": "code",
            "execution_count": 12,
            "metadata": {},
            "outputs": [],
            "source": "# adding latitudes and longitudes column to the DataFrame\ndf_coords = pd.DataFrame(coords, columns = ['Latitude', 'Longitude'])\ndf['Latitude'] = df_coords['Latitude']\ndf['Longitude'] = df_coords['Longitude']"
        },
        {
            "cell_type": "code",
            "execution_count": 13,
            "metadata": {},
            "outputs": [
                {
                    "data": {
                        "text/html": "<div>\n<style scoped>\n    .dataframe tbody tr th:only-of-type {\n        vertical-align: middle;\n    }\n\n    .dataframe tbody tr th {\n        vertical-align: top;\n    }\n\n    .dataframe thead th {\n        text-align: right;\n    }\n</style>\n<table border=\"1\" class=\"dataframe\">\n  <thead>\n    <tr style=\"text-align: right;\">\n      <th></th>\n      <th>Postalcode</th>\n      <th>Borough</th>\n      <th>Neighborhood</th>\n      <th>Latitude</th>\n      <th>Longitude</th>\n    </tr>\n  </thead>\n  <tbody>\n  </tbody>\n</table>\n</div>",
                        "text/plain": "Empty DataFrame\nColumns: [Postalcode, Borough, Neighborhood, Latitude, Longitude]\nIndex: []"
                    },
                    "execution_count": 13,
                    "metadata": {},
                    "output_type": "execute_result"
                }
            ],
            "source": "df[df.Postalcode == 'M5G']"
        },
        {
            "cell_type": "code",
            "execution_count": 14,
            "metadata": {},
            "outputs": [
                {
                    "data": {
                        "text/html": "<div>\n<style scoped>\n    .dataframe tbody tr th:only-of-type {\n        vertical-align: middle;\n    }\n\n    .dataframe tbody tr th {\n        vertical-align: top;\n    }\n\n    .dataframe thead th {\n        text-align: right;\n    }\n</style>\n<table border=\"1\" class=\"dataframe\">\n  <thead>\n    <tr style=\"text-align: right;\">\n      <th></th>\n      <th>Postalcode</th>\n      <th>Borough</th>\n      <th>Neighborhood</th>\n      <th>Latitude</th>\n      <th>Longitude</th>\n    </tr>\n  </thead>\n  <tbody>\n    <tr>\n      <th>0</th>\n      <td>M1B\\n</td>\n      <td>Scarborough\\n</td>\n      <td>Malvern, Rouge</td>\n      <td>43.81153</td>\n      <td>-79.19552</td>\n    </tr>\n    <tr>\n      <th>1</th>\n      <td>M1C\\n</td>\n      <td>Scarborough\\n</td>\n      <td>Rouge Hill, Port Union, Highland Creek</td>\n      <td>43.78564</td>\n      <td>-79.15871</td>\n    </tr>\n    <tr>\n      <th>2</th>\n      <td>M1E\\n</td>\n      <td>Scarborough\\n</td>\n      <td>Guildwood, Morningside, West Hill</td>\n      <td>43.76575</td>\n      <td>-79.17520</td>\n    </tr>\n    <tr>\n      <th>3</th>\n      <td>M1G\\n</td>\n      <td>Scarborough\\n</td>\n      <td>Woburn</td>\n      <td>43.76820</td>\n      <td>-79.21761</td>\n    </tr>\n    <tr>\n      <th>4</th>\n      <td>M1H\\n</td>\n      <td>Scarborough\\n</td>\n      <td>Cedarbrae</td>\n      <td>43.76969</td>\n      <td>-79.23944</td>\n    </tr>\n    <tr>\n      <th>5</th>\n      <td>M1J\\n</td>\n      <td>Scarborough\\n</td>\n      <td>Scarborough Village</td>\n      <td>43.74309</td>\n      <td>-79.23526</td>\n    </tr>\n    <tr>\n      <th>6</th>\n      <td>M1K\\n</td>\n      <td>Scarborough\\n</td>\n      <td>Kennedy Park, Ionview, East Birchmount Park</td>\n      <td>43.72861</td>\n      <td>-79.26367</td>\n    </tr>\n    <tr>\n      <th>7</th>\n      <td>M1L\\n</td>\n      <td>Scarborough\\n</td>\n      <td>Golden Mile, Clairlea, Oakridge</td>\n      <td>43.71406</td>\n      <td>-79.28412</td>\n    </tr>\n    <tr>\n      <th>8</th>\n      <td>M1M\\n</td>\n      <td>Scarborough\\n</td>\n      <td>Cliffside, Cliffcrest, Scarborough Village West</td>\n      <td>43.72360</td>\n      <td>-79.23496</td>\n    </tr>\n    <tr>\n      <th>9</th>\n      <td>M1N\\n</td>\n      <td>Scarborough\\n</td>\n      <td>Birch Cliff, Cliffside West</td>\n      <td>43.69539</td>\n      <td>-79.26194</td>\n    </tr>\n    <tr>\n      <th>10</th>\n      <td>M1P\\n</td>\n      <td>Scarborough\\n</td>\n      <td>Dorset Park, Wexford Heights, Scarborough Town...</td>\n      <td>43.75998</td>\n      <td>-79.26837</td>\n    </tr>\n    <tr>\n      <th>11</th>\n      <td>M1R\\n</td>\n      <td>Scarborough\\n</td>\n      <td>Wexford, Maryvale</td>\n      <td>43.75071</td>\n      <td>-79.30056</td>\n    </tr>\n    <tr>\n      <th>12</th>\n      <td>M1S\\n</td>\n      <td>Scarborough\\n</td>\n      <td>Agincourt</td>\n      <td>43.79394</td>\n      <td>-79.26711</td>\n    </tr>\n    <tr>\n      <th>13</th>\n      <td>M1T\\n</td>\n      <td>Scarborough\\n</td>\n      <td>Clarks Corners, Tam O'Shanter, Sullivan</td>\n      <td>43.78473</td>\n      <td>-79.29937</td>\n    </tr>\n    <tr>\n      <th>14</th>\n      <td>M1V\\n</td>\n      <td>Scarborough\\n</td>\n      <td>Milliken, Agincourt North, Steeles East, L'Amo...</td>\n      <td>43.81781</td>\n      <td>-79.28024</td>\n    </tr>\n    <tr>\n      <th>15</th>\n      <td>M1W\\n</td>\n      <td>Scarborough\\n</td>\n      <td>Steeles West, L'Amoreaux West</td>\n      <td>43.80052</td>\n      <td>-79.32074</td>\n    </tr>\n    <tr>\n      <th>16</th>\n      <td>M1X\\n</td>\n      <td>Scarborough\\n</td>\n      <td>Upper Rouge</td>\n      <td>43.83422</td>\n      <td>-79.21670</td>\n    </tr>\n    <tr>\n      <th>17</th>\n      <td>M2H\\n</td>\n      <td>North York\\n</td>\n      <td>Hillcrest Village</td>\n      <td>43.80285</td>\n      <td>-79.35621</td>\n    </tr>\n    <tr>\n      <th>18</th>\n      <td>M2J\\n</td>\n      <td>North York\\n</td>\n      <td>Fairview, Henry Farm, Oriole</td>\n      <td>43.78097</td>\n      <td>-79.34781</td>\n    </tr>\n    <tr>\n      <th>19</th>\n      <td>M2K\\n</td>\n      <td>North York\\n</td>\n      <td>Bayview Village</td>\n      <td>43.78102</td>\n      <td>-79.38060</td>\n    </tr>\n  </tbody>\n</table>\n</div>",
                        "text/plain": "   Postalcode        Borough  \\\n0       M1B\\n  Scarborough\\n   \n1       M1C\\n  Scarborough\\n   \n2       M1E\\n  Scarborough\\n   \n3       M1G\\n  Scarborough\\n   \n4       M1H\\n  Scarborough\\n   \n5       M1J\\n  Scarborough\\n   \n6       M1K\\n  Scarborough\\n   \n7       M1L\\n  Scarborough\\n   \n8       M1M\\n  Scarborough\\n   \n9       M1N\\n  Scarborough\\n   \n10      M1P\\n  Scarborough\\n   \n11      M1R\\n  Scarborough\\n   \n12      M1S\\n  Scarborough\\n   \n13      M1T\\n  Scarborough\\n   \n14      M1V\\n  Scarborough\\n   \n15      M1W\\n  Scarborough\\n   \n16      M1X\\n  Scarborough\\n   \n17      M2H\\n   North York\\n   \n18      M2J\\n   North York\\n   \n19      M2K\\n   North York\\n   \n\n                                         Neighborhood  Latitude  Longitude  \n0                                      Malvern, Rouge  43.81153  -79.19552  \n1              Rouge Hill, Port Union, Highland Creek  43.78564  -79.15871  \n2                   Guildwood, Morningside, West Hill  43.76575  -79.17520  \n3                                              Woburn  43.76820  -79.21761  \n4                                           Cedarbrae  43.76969  -79.23944  \n5                                 Scarborough Village  43.74309  -79.23526  \n6         Kennedy Park, Ionview, East Birchmount Park  43.72861  -79.26367  \n7                     Golden Mile, Clairlea, Oakridge  43.71406  -79.28412  \n8     Cliffside, Cliffcrest, Scarborough Village West  43.72360  -79.23496  \n9                         Birch Cliff, Cliffside West  43.69539  -79.26194  \n10  Dorset Park, Wexford Heights, Scarborough Town...  43.75998  -79.26837  \n11                                  Wexford, Maryvale  43.75071  -79.30056  \n12                                          Agincourt  43.79394  -79.26711  \n13            Clarks Corners, Tam O'Shanter, Sullivan  43.78473  -79.29937  \n14  Milliken, Agincourt North, Steeles East, L'Amo...  43.81781  -79.28024  \n15                      Steeles West, L'Amoreaux West  43.80052  -79.32074  \n16                                        Upper Rouge  43.83422  -79.21670  \n17                                  Hillcrest Village  43.80285  -79.35621  \n18                       Fairview, Henry Farm, Oriole  43.78097  -79.34781  \n19                                    Bayview Village  43.78102  -79.38060  "
                    },
                    "execution_count": 14,
                    "metadata": {},
                    "output_type": "execute_result"
                }
            ],
            "source": "df.head(20)"
        },
        {
            "cell_type": "code",
            "execution_count": 15,
            "metadata": {},
            "outputs": [],
            "source": "df.to_csv('Toronto_PART2.csv', index = False)"
        },
        {
            "cell_type": "code",
            "execution_count": null,
            "metadata": {},
            "outputs": [],
            "source": ""
        }
    ],
    "metadata": {
        "kernelspec": {
            "display_name": "Python 3.6",
            "language": "python",
            "name": "python3"
        },
        "language_info": {
            "codemirror_mode": {
                "name": "ipython",
                "version": 3
            },
            "file_extension": ".py",
            "mimetype": "text/x-python",
            "name": "python",
            "nbconvert_exporter": "python",
            "pygments_lexer": "ipython3",
            "version": "3.6.9"
        }
    },
    "nbformat": 4,
    "nbformat_minor": 1
}