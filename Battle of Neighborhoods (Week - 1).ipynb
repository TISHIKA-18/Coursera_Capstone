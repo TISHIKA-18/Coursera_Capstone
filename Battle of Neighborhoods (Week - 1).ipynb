{
    "cells": [
        {
            "cell_type": "markdown",
            "metadata": {
                "collapsed": true
            },
            "source": "# The Battle of Neighborhoods (Week-1) | Business Problem | Introduction"
        },
        {
            "cell_type": "markdown",
            "metadata": {},
            "source": "##   Introduction:-"
        },
        {
            "cell_type": "markdown",
            "metadata": {},
            "source": "The purpose of this project is to help people in exploring better facilities around their neighborhood. It will help people in making smart and efficient in deciding great neighborhood out of  number of areas for themselves in Scarborough, Toronto.\nLots of people are migrating to various states of Canada for their betterment of their future. And for this they need lot of research for good and economical housing prices etc. and etc. This project is for these kind of people. Thus, it makes their access easier for Cafe, Schools, Super markets, medical shops, grocery shops, malls, theatres, hospitals etc.\nThis project aims to create an analysis of features for people migrating to Scarborough to search best neighbourhood as to other neighborhoods. These features include median housing price and better schools colleges accoerding to ratings, crime rate in that particular area, road connectivity, weather conditions, electricity and water supply, and excrement conveyed in sewers and recreational facilities."
        },
        {
            "cell_type": "markdown",
            "metadata": {},
            "source": "## Problem needed to be solved:-"
        },
        {
            "cell_type": "markdown",
            "metadata": {},
            "source": "The sole purpose of this project is to suggest a better neighborhood in a new city for the people who are immigrating to an absolutely unknown place. Social presence in society in terms of like-minded people. Connectivity to airport, bus stand, markets and other daily needs nearby.\n\n1. Sorted list of house in terms of housing prices in ascending and descending order.\n2. Sorted list of schools in terms of location, fees, rating and reviews"
        },
        {
            "cell_type": "markdown",
            "metadata": {},
            "source": "## Location:-"
        },
        {
            "cell_type": "markdown",
            "metadata": {},
            "source": "Scarborough is a popular destination for new immigrants in Canada to reside. As a result, it is one of the most diverse and multicultural area in Toronto being home to various religious groups and places of worship. Although immigration has become a hot topic over the past few years with more governmemts seeking more restrictions on immigrants and refugees, the general trend of immigration to Canada has been one on rise."
        },
        {
            "cell_type": "markdown",
            "metadata": {},
            "source": "## Foursquare API:-"
        },
        {
            "cell_type": "markdown",
            "metadata": {},
            "source": "This project would use Foursquare API as its primary data gathering source as it has a database of millions of places, especially their places API which provides the ability to perform location search, location sharing details about a business."
        },
        {
            "cell_type": "markdown",
            "metadata": {},
            "source": "## Work Flow:-"
        },
        {
            "cell_type": "markdown",
            "metadata": {},
            "source": "Using credentials of Foursquare API features of near-by places of the neighborhoods would be mined. Due to http request limitations the number of places per neighborhood parameter would reasonably be set to 100 and the radius parameter would be set to 500."
        },
        {
            "cell_type": "markdown",
            "metadata": {},
            "source": "## Clustering Approach:-"
        },
        {
            "cell_type": "markdown",
            "metadata": {},
            "source": "To compare the similarities of two cities, we decided to explore neighborhoods, segment them, and group them into clusters to find similar neighborhoods in a big city like New York and Toronto. To be able to do that, we need to cluster data which is a form of unsupervised machine learning: k-means clustering algorithm."
        },
        {
            "cell_type": "markdown",
            "metadata": {},
            "source": "## Libraries which need to be imported:-"
        },
        {
            "cell_type": "markdown",
            "metadata": {},
            "source": "Pandas: For creating and manipulating DataFrames.\n\nFolium: Python visualization library which is used to visualize the neighborhoods cluster distribution of using interactive leaflet map.\n\nScikit Learn: For importing k-means clustering.\n\nJSON: Library to handle JSON files.\n\nXML: To separate data from presentation and XML stores data in plain text format.\n\nGeocoder: To retrieve Location Data.\n\nBeautiful Soup and Requests: To scrap and library to handle http requests.\n\nMatplotlib: Python Plotting Module."
        },
        {
            "cell_type": "code",
            "execution_count": null,
            "metadata": {},
            "outputs": [],
            "source": ""
        }
    ],
    "metadata": {
        "kernelspec": {
            "display_name": "Python 3.6",
            "language": "python",
            "name": "python3"
        },
        "language_info": {
            "codemirror_mode": {
                "name": "ipython",
                "version": 3
            },
            "file_extension": ".py",
            "mimetype": "text/x-python",
            "name": "python",
            "nbconvert_exporter": "python",
            "pygments_lexer": "ipython3",
            "version": "3.6.9"
        }
    },
    "nbformat": 4,
    "nbformat_minor": 1
}